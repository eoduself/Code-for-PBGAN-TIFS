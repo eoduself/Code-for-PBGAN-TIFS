{
  "nbformat": 4,
  "nbformat_minor": 0,
  "metadata": {
    "colab": {
      "name": "GAN_and_PBGAN.ipynb",
      "provenance": [],
      "collapsed_sections": []
    },
    "kernelspec": {
      "name": "python3",
      "display_name": "Python 3"
    },
    "accelerator": "GPU"
  },
  "cells": [
    {
      "cell_type": "code",
      "metadata": {
        "id": "P0ByywuhcZQW"
      },
      "source": [
        "# !nvidia-smi"
      ],
      "execution_count": 1,
      "outputs": []
    },
    {
      "cell_type": "markdown",
      "metadata": {
        "id": "6Dcj4YMNcoFh"
      },
      "source": [
        "**Initialize**"
      ]
    },
    {
      "cell_type": "code",
      "metadata": {
        "id": "6ZTZWsEOcmZK"
      },
      "source": [
        "import tensorflow as tf\n",
        "import glob\n",
        "import imageio\n",
        "import matplotlib.pyplot as plt\n",
        "import numpy as np\n",
        "import os\n",
        "import PIL\n",
        "from tensorflow.keras import layers\n",
        "import time\n",
        "import scipy.io\n",
        "from sklearn.preprocessing import OneHotEncoder\n",
        "from random import random\n",
        "from IPython import display\n",
        "from scipy import signal\n",
        "\n",
        "tf.__version__\n",
        "\n",
        "read_file=scipy.io.loadmat('Subset_Biosec3.mat') # Load data"
      ],
      "execution_count": 2,
      "outputs": []
    },
    {
      "cell_type": "markdown",
      "metadata": {
        "id": "CCvyp5jMc_wg"
      },
      "source": [
        "**Set Target ID, GAN, PBGAN, Input**"
      ]
    },
    {
      "cell_type": "code",
      "metadata": {
        "id": "MetRtWiqcmb_",
        "outputId": "e4d0c268-ea40-422c-b4e3-7f711d394b64",
        "colab": {
          "base_uri": "https://localhost:8080/"
        }
      },
      "source": [
        "ID = 1 # Target ID\n",
        "GAN_model = 0 # GAN model. 0: DCGAN / 1: WGAN / 2: LSGAN\n",
        "PBGAN = 1 # PBGAN or PBGAN (W) ON/OFF. 0: ON / 1: OFF\n",
        "Data = 3 # Input. 0: DTW / 1: TP / 2: FP / 3: Cubic\n",
        "\n",
        "subject = np.arange(1,21).tolist()\n",
        "print('ID',ID)\n"
      ],
      "execution_count": 3,
      "outputs": [
        {
          "output_type": "stream",
          "text": [
            "ID 1\n"
          ],
          "name": "stdout"
        }
      ]
    },
    {
      "cell_type": "code",
      "metadata": {
        "id": "sN1fyHDHcmeq",
        "outputId": "f78f4add-336f-4b8b-d9d6-6b93882fe3a3",
        "colab": {
          "base_uri": "https://localhost:8080/",
          "height": 298
        }
      },
      "source": [
        "train_data = np.array(read_file['GAN_data'])[subject.index(ID), Data] # Assign train data from only target\n",
        "train_data = np.reshape(train_data, [len(train_data),150,1,1])\n",
        "n_feature = train_data.shape[1]\n",
        "\n",
        "fig = plt.figure()\n",
        "ax = plt.subplot(111)\n",
        "ax.plot(train_data[0,:,0,0])\n",
        "plt.title('Data sample')"
      ],
      "execution_count": 4,
      "outputs": [
        {
          "output_type": "execute_result",
          "data": {
            "text/plain": [
              "Text(0.5, 1.0, 'Data sample')"
            ]
          },
          "metadata": {
            "tags": []
          },
          "execution_count": 4
        },
        {
          "output_type": "display_data",
          "data": {
            "image/png": "[encoded data removed]",
            "text/plain": [
              "<Figure size 432x288 with 1 Axes>"
            ]
          },
          "metadata": {
            "tags": [],
            "needs_background": "light"
          }
        }
      ]
    },
    {
      "cell_type": "markdown",
      "metadata": {
        "id": "JPfI51CzfE3I"
      },
      "source": [
        "**Onehot Encoding and Data Shuffle**"
      ]
    },
    {
      "cell_type": "code",
      "metadata": {
        "id": "SvtBolAvcmhh"
      },
      "source": [
        "enc = OneHotEncoder()\n",
        "\n",
        "randIndx = np.arange(train_data.shape[0])\n",
        "np.random.shuffle(randIndx)\n",
        "\n",
        "train_data = train_data[randIndx] # Random shuffle the train data\n",
        "train_data = train_data[:int(len(train_data) / 10) * 10] # Take most data for training\n",
        "\n",
        "train_labels = np.ones((len(train_data),1)) # Train label\n"
      ],
      "execution_count": 5,
      "outputs": []
    },
    {
      "cell_type": "code",
      "metadata": {
        "id": "-VECj40dcmkf"
      },
      "source": [
        "BUFFER_SIZE = 60000\n",
        "BATCH_SIZE = 10 # Mini-batch size\n",
        "\n",
        "# Shuffle with mini-batch\n",
        "train_dataset = tf.data.Dataset.from_tensor_slices(train_data).batch(BATCH_SIZE)\n",
        "labels = tf.data.Dataset.from_tensor_slices(train_labels).batch(BATCH_SIZE)"
      ],
      "execution_count": 6,
      "outputs": []
    },
    {
      "cell_type": "markdown",
      "metadata": {
        "id": "qt406f7tgM4X"
      },
      "source": [
        "**The Generator**"
      ]
    },
    {
      "cell_type": "code",
      "metadata": {
        "id": "kJBosH2Ocmna"
      },
      "source": [
        "def make_generator_model():\n",
        "    if (GAN_model == 0) or (GAN_model == 1): # DCGAN or WGAN\n",
        "      model = tf.keras.Sequential()\n",
        "      # FC Layer\n",
        "      model.add(layers.Dense(25*1*256, use_bias=False, input_shape=(200,)))\n",
        "      model.add(layers.BatchNormalization()) # BN\n",
        "      model.add(layers.LeakyReLU()) # LeakyReLu\n",
        "      model.add(layers.Reshape((25, 1, 256)))\n",
        "      assert model.output_shape == (None, 25, 1, 256)\n",
        "      # Convolutional-Transpose Layer #1\n",
        "      model.add(layers.Conv2DTranspose(128, (5, 1), strides=(1, 1), padding='same', use_bias=False)) # Conv-T\n",
        "      assert model.output_shape == (None, 25, 1, 128)\n",
        "      model.add(layers.BatchNormalization()) # BN\n",
        "      model.add(layers.LeakyReLU()) # LeakyReLu\n",
        "      # Convolutional-Transpose Layer #2\n",
        "      model.add(layers.Conv2DTranspose(64, (5, 1), strides=(3, 1), padding='same', use_bias=False)) # Conv-T\n",
        "      assert model.output_shape == (None, 75, 1, 64)\n",
        "      model.add(layers.BatchNormalization()) # BN\n",
        "      model.add(layers.LeakyReLU()) # LeakyReLu\n",
        "      # Convolutional-Transpose Layer #3\n",
        "      model.add(layers.Conv2DTranspose(32, (5, 1), strides=(1, 1), padding='same', use_bias=False)) # Conv-T\n",
        "      assert model.output_shape == (None, 75, 1, 32)\n",
        "      model.add(layers.BatchNormalization()) # BN\n",
        "      model.add(layers.LeakyReLU()) # LeakyReLu\n",
        "      # Convolutional-Transpose Layer #4\n",
        "      model.add(layers.Conv2DTranspose(16, (5, 1), strides=(2, 1), padding='same', use_bias=False)) # Conv-T\n",
        "      assert model.output_shape == (None, 150, 1, 16)\n",
        "      model.add(layers.BatchNormalization()) # BN\n",
        "      model.add(layers.LeakyReLU()) # LeakyReLu\n",
        "      # Convolutional-Transpose Layer #5\n",
        "      model.add(layers.Conv2DTranspose(1, (5, 1), strides=(1, 1), padding='same', use_bias=False)) # Conv-T\n",
        "      # Output\n",
        "      assert model.output_shape == (None, 150, 1, 1)\n",
        "\n",
        "      return model\n",
        "\n",
        "    elif GAN_model == 2: # LSGAN\n",
        "      model = tf.keras.Sequential()\n",
        "      # FC Layer\n",
        "      model.add(layers.Dense(25*1*256, use_bias=False, input_shape=(200,)))\n",
        "      model.add(layers.LeakyReLU()) # LeakyReLu\n",
        "      model.add(layers.Reshape((25, 1, 256)))\n",
        "      assert model.output_shape == (None, 25, 1, 256) \n",
        "      # Convolutional-Transpose Layer #1\n",
        "      model.add(layers.Conv2DTranspose(128, (5, 1), strides=(1, 1), padding='same', use_bias=False)) # Conv-T\n",
        "      assert model.output_shape == (None, 25, 1, 128)\n",
        "      model.add(layers.LeakyReLU()) # LeakyReLu\n",
        "      # Convolutional-Transpose Layer #2\n",
        "      model.add(layers.Conv2DTranspose(64, (5, 1), strides=(3, 1), padding='same', use_bias=False)) # Conv-T\n",
        "      assert model.output_shape == (None, 75, 1, 64)\n",
        "      model.add(layers.LeakyReLU()) # LeakyReLu\n",
        "      # Convolutional-Transpose Layer #3\n",
        "      model.add(layers.Conv2DTranspose(32, (5, 1), strides=(1, 1), padding='same', use_bias=False)) # Conv-T\n",
        "      assert model.output_shape == (None, 75, 1, 32)\n",
        "      model.add(layers.LeakyReLU()) # LeakyReLu\n",
        "      # Convolutional-Transpose Layer #4\n",
        "      model.add(layers.Conv2DTranspose(16, (5, 1), strides=(2, 1), padding='same', use_bias=False)) # Conv-T\n",
        "      assert model.output_shape == (None, 150, 1, 16)\n",
        "      model.add(layers.LeakyReLU()) # LeakyReLu\n",
        "      # Convolutional-Transpose Layer #5\n",
        "      model.add(layers.Conv2DTranspose(1, (5, 1), strides=(1, 1), padding='same', use_bias=False)) # Conv-T\n",
        "      # Output\n",
        "      assert model.output_shape == (None, 150, 1, 1)\n",
        "\n",
        "      return model\n",
        "\n",
        "    else:\n",
        "      print('Set the number between 0 and 2 for GAN model')\n",
        "\n",
        "generator = make_generator_model()"
      ],
      "execution_count": 7,
      "outputs": []
    },
    {
      "cell_type": "markdown",
      "metadata": {
        "id": "yy6OkUcSjs2V"
      },
      "source": [
        "**The Discriminator**"
      ]
    },
    {
      "cell_type": "code",
      "metadata": {
        "id": "MO8tavxIcmqS"
      },
      "source": [
        "def make_discriminator_model():\n",
        "    if GAN_model == 0: # DCGAN\n",
        "      model = tf.keras.Sequential()\n",
        "      # Convolutional Layer #1\n",
        "      model.add(layers.Conv2D(16, (5, 1), strides=(1, 1), padding='same', input_shape=[150, 1, 1])) # Conv\n",
        "      model.add(layers.BatchNormalization()) # BN\n",
        "      model.add(layers.LeakyReLU()) # LeakyReLu\n",
        "      model.add(layers.Dropout(0.5)) # Dropout\n",
        "      # Convolutional Layer #2\n",
        "      model.add(layers.Conv2D(32, (5, 1), strides=(2, 1), padding='same')) # Conv\n",
        "      model.add(layers.BatchNormalization()) # BN\n",
        "      model.add(layers.LeakyReLU()) # LeakyReLu\n",
        "      model.add(layers.Dropout(0.5)) # Dropout\n",
        "      # Convolutional Layer #3\n",
        "      model.add(layers.Conv2D(64, (5, 1), strides=(1, 1), padding='same')) # Conv\n",
        "      model.add(layers.BatchNormalization()) # BN\n",
        "      model.add(layers.LeakyReLU()) # LeakyReLu\n",
        "      model.add(layers.Dropout(0.5)) # Dropout\n",
        "      # Convolutional Layer #4\n",
        "      model.add(layers.Conv2D(128, (5, 1), strides=(3, 1), padding='same')) # Conv\n",
        "      model.add(layers.BatchNormalization()) # BN\n",
        "      model.add(layers.LeakyReLU()) # LeakyReLu\n",
        "      model.add(layers.Dropout(0.5)) # Dropout\n",
        "      # Convolutional Layer #5\n",
        "      model.add(layers.Conv2D(256, (5, 1), strides=(1, 1), padding='same')) # Conv\n",
        "      model.add(layers.BatchNormalization()) # BN\n",
        "      model.add(layers.LeakyReLU()) # LeakyReLu\n",
        "      model.add(layers.Dropout(0.5)) # Dropout\n",
        "      # FC Layer + Output\n",
        "      model.add(layers.Flatten())\n",
        "      model.add(layers.Dense(1))\n",
        "      model.add(layers.Activation('sigmoid')) # Sigmoid\n",
        "      \n",
        "      return model\n",
        "\n",
        "    elif (GAN_model == 1) or (GAN_model == 2): # WGAN or LSGAN\n",
        "      model = tf.keras.Sequential()\n",
        "      # Convolutional Layer #1\n",
        "      model.add(layers.Conv2D(16, (5, 1), strides=(1, 1), padding='same', input_shape=[150, 1, 1])) # Conv\n",
        "      model.add(layers.LeakyReLU()) # LeakyReLu\n",
        "      model.add(layers.Dropout(0.5)) # Dropout\n",
        "      # Convolutional Layer #2\n",
        "      model.add(layers.Conv2D(32, (5, 1), strides=(2, 1), padding='same')) # Conv\n",
        "      model.add(layers.LeakyReLU()) # LeakyReLu\n",
        "      model.add(layers.Dropout(0.5)) # Dropout\n",
        "      # Convolutional Layer #3\n",
        "      model.add(layers.Conv2D(64, (5, 1), strides=(1, 1), padding='same')) # Conv\n",
        "      model.add(layers.LeakyReLU()) # LeakyReLu\n",
        "      model.add(layers.Dropout(0.5)) # Dropout\n",
        "      # Convolutional Layer #4\n",
        "      model.add(layers.Conv2D(128, (5, 1), strides=(3, 1), padding='same')) # Conv\n",
        "      model.add(layers.LeakyReLU()) # LeakyReLu\n",
        "      model.add(layers.Dropout(0.5)) # Dropout\n",
        "      # Convolutional Layer #5\n",
        "      model.add(layers.Conv2D(256, (5, 1), strides=(1, 1), padding='same')) # Conv\n",
        "      model.add(layers.LeakyReLU()) # LeakyReLu \n",
        "      model.add(layers.Dropout(0.5)) # Dropout\n",
        "      # FC Layer + Output\n",
        "      model.add(layers.Flatten())\n",
        "      model.add(layers.Dense(1))    \n",
        "\n",
        "      return model\n",
        "\n",
        "    else:\n",
        "      print('Set the number between 0 and 2 for GAN model')\n",
        "\n",
        "discriminator = make_discriminator_model()"
      ],
      "execution_count": 8,
      "outputs": []
    },
    {
      "cell_type": "markdown",
      "metadata": {
        "id": "lfDCzHHsqCxy"
      },
      "source": [
        "**The Generator Loss**"
      ]
    },
    {
      "cell_type": "code",
      "metadata": {
        "id": "SDRhUdTLcm1i"
      },
      "source": [
        "cross_entropy = tf.keras.losses.BinaryCrossentropy()\n",
        "\n",
        "if PBGAN == 0 : # PBGAN from original GANs\n",
        "\n",
        "  def gradient(x): # Function for calculating gradient\n",
        "      grad = []\n",
        "      for i in range(n_feature-1):\n",
        "        grad.append(x[:,i+1]-x[:,i])\n",
        "\n",
        "      return tf.convert_to_tensor(tf.transpose(grad))\n",
        "\n",
        "  def integral(y, x): # Function for calculating area\n",
        "      dx = (x[-1] - x[0]) / (int(x.shape[0]) - 1)\n",
        "      dx = tf.cast(dx,dtype=tf.float64)\n",
        "      return ((y[:,0] + y[:,-1])/2 + tf.reduce_sum(y[:,1:-1],axis=1)) * dx\n",
        "\n",
        "  def autocorr(x): # Function for calculating autocorrelation\n",
        "      y = x - np.mean(x)\n",
        "      norm = np.sum(y ** 2)\n",
        "      correlated = np.correlate(x, x, mode='full') / norm\n",
        "\n",
        "      return correlated[int(len(correlated)/2):]\n",
        "\n",
        "  def generator_loss(images, generated_images, fake_output, epoch):\n",
        "      if epoch>=10: # After epoch=10, use MSE loss with original loss (PBGAN)\n",
        "        result_area = result_up = result_down = cor_1 = cor_2 = cor_3 = 0.0 # Features for PBGAN\n",
        "        a = tf.constant(0, dtype=tf.float64)\n",
        "        b = tf.constant(n_feature-1, dtype=tf.float64)\n",
        "        x = tf.linspace(a, b, n_feature)\n",
        "        \n",
        "        temp_real = tf.cast(tf.reshape(images, [len(images), n_feature]), dtype=tf.float64) # Real data\n",
        "        temp_gen = tf.cast(tf.reshape(generated_images, [len(generated_images), n_feature]), dtype=tf.float64) # Fake data\n",
        "          \n",
        "        result_area = tf.reduce_mean(tf.pow(tf.subtract(integral(temp_real, x), integral(temp_gen, x)),2)) # MSE from area feature\n",
        "\n",
        "        r_sys_loc = tf.argmax(temp_real,axis=1) # Peak location in real data\n",
        "        g_sys_loc = tf.argmax(temp_gen,axis=1) # Peak location in fake data\n",
        "        grad_r = gradient(temp_real) # Gradient information for real data\n",
        "        grad_g = gradient(temp_gen) # Gradient information for fake data\n",
        "\n",
        "        r_up = []\n",
        "        r_dw = []\n",
        "        g_up = []\n",
        "        g_dw = []\n",
        "        cor_1_r_tmp = []       \n",
        "        cor_2_r_tmp = []\n",
        "        cor_3_r_tmp = []\n",
        "        cor_1_g_tmp = []\n",
        "        cor_2_g_tmp = []\n",
        "        cor_3_g_tmp = []\n",
        "\n",
        "        for i in range(len(r_sys_loc)):\n",
        "          \n",
        "          grad_r_tmp = tf.math.abs(grad_r[i, r_sys_loc[i] - 10:r_sys_loc[i]+ 15])\n",
        "          grad_g_tmp = tf.math.abs(grad_g[i, g_sys_loc[i] - 10:g_sys_loc[i]+ 15])\n",
        "\n",
        "          r_up.append(tf.cast(tf.math.reduce_max(grad_r_tmp[:][:10]), dtype=tf.float64)) # Max upward slope near peak (real_data)\n",
        "          r_dw.append(tf.cast(tf.math.reduce_max(grad_r_tmp[:][10:]), dtype=tf.float64)) # Max downward slope near peak (real_data)\n",
        "          g_up.append(tf.cast(tf.math.reduce_max(grad_g_tmp[:][:10]), dtype=tf.float64)) # Max upward slope near peak (fake_data)\n",
        "          g_dw.append(tf.cast(tf.math.reduce_max(grad_g_tmp[:][10:]), dtype=tf.float64)) # Max downward slope near peak (fake_data)\n",
        "\n",
        "          ac_r = autocorr(temp_real[i])\n",
        "          ac_g = autocorr(temp_gen[i])        \n",
        "          cor_1_r_tmp.append(ac_r[int((n_feature-1)/4)]) # Autocorrelation at 1/4 lag (real_data)\n",
        "          cor_2_r_tmp.append(ac_r[int(2*(n_feature-1)/4)]) # Autocorrelation at 2/4 lag (real_data)\n",
        "          cor_3_r_tmp.append(ac_r[int(3*(n_feature-1)/4)]) # Autocorrelation at 3/4 lag (real_data)\n",
        "          cor_1_g_tmp.append(ac_g[int((n_feature-1)/4)]) # Autocorrelation at 1/4 lag (fake_data)\n",
        "          cor_2_g_tmp.append(ac_g[int(2*(n_feature-1)/4)]) # Autocorrelation at 2/4 lag (fake_data)\n",
        "          cor_3_g_tmp.append(ac_g[int(3*(n_feature-1)/4)]) # Autocorrelation at 3/4 lag (fake_data)\n",
        "\n",
        "        result_up = tf.reduce_mean(tf.pow(tf.subtract(r_up, g_up),2)) # MSE from max upward slope feature\n",
        "        result_down = tf.reduce_mean(tf.pow(tf.subtract(r_dw, g_dw),2)) # MSE from max downward slope feature\n",
        "\n",
        "        cor_1 = tf.reduce_mean(tf.pow(tf.subtract(cor_1_r_tmp, cor_1_g_tmp),2)) # MSE from autocorrelation (1/4 lag) feature\n",
        "        cor_2 = tf.reduce_mean(tf.pow(tf.subtract(cor_2_r_tmp, cor_2_g_tmp),2)) # MSE from autocorrelation (2/4 lag) feature\n",
        "        cor_3 = tf.reduce_mean(tf.pow(tf.subtract(cor_3_r_tmp, cor_3_g_tmp),2)) # MSE from autocorrelation (3/4 lag) feature\n",
        "\n",
        "        r_f, r_psd = signal.welch(temp_real, fs=100) # Power spectral density (PSD) in real data\n",
        "        g_f, g_psd = signal.welch(temp_gen, fs=100) # PSD in fake data\n",
        "\n",
        "        psd = tf.reduce_mean(tf.pow(tf.subtract(np.trapz(r_psd,axis=1), np.trapz(g_psd,axis=1)),2)) # MSE from area of PSD feature\n",
        "        MSE_loss = 0.49*result_area + 0.58*result_up + 1*result_down + 0.39*cor_1 + 0.46*cor_2 + 0.21*cor_3 + 0.95*psd # Different weights for all features in proposed loss\n",
        "        # MSE_loss = result_area + result_up + result_down + cor_1 + cor_2 + cor_3 + psd  # Same weights for all features in proposed loss\n",
        "\n",
        "        if GAN_model == 0: # PBGAN-DC\n",
        "          original_loss = tf.cast(cross_entropy(tf.ones_like(fake_output), fake_output), dtype=tf.float64) # cross entropy with fake\n",
        "\n",
        "        elif GAN_model == 1: # PBGAN-W\n",
        "          original_loss = tf.cast(-tf.reduce_mean(fake_output), dtype=tf.float64) # Loss for WGAN\n",
        "\n",
        "        elif GAN_model == 2: # PBGAN-LS\n",
        "          original_loss = tf.cast(tf.reduce_mean(tf.nn.l2_loss(fake_output - tf.ones_like(fake_output))) / 2, dtype=tf.float64) # L2 norm with fake\n",
        "\n",
        "        else:    \n",
        "          print('Set the number between 0 and 2 for GAN model')\n",
        "\n",
        "        return original_loss + MSE_loss \n",
        "\n",
        "      else: # Before epoch 10, use only original loss function for better synthetic data\n",
        "\n",
        "        if GAN_model == 0: # DCGAN\n",
        "          original_loss = tf.cast(cross_entropy(tf.ones_like(fake_output), fake_output), dtype=tf.float64) # cross entropy with fake\n",
        "\n",
        "        elif GAN_model == 1: # WGAN\n",
        "          original_loss = tf.cast(-tf.reduce_mean(fake_output), dtype=tf.float64) # Loss for WGAN\n",
        "\n",
        "        elif GAN_model == 2: # LSGAN\n",
        "          original_loss = tf.cast(tf.reduce_mean(tf.nn.l2_loss(fake_output - tf.ones_like(fake_output))) / 2, dtype=tf.float64) # L2 norm with fake\n",
        "\n",
        "        else:    \n",
        "          print('Set the number between 0 and 2 for GAN model')\n",
        "\n",
        "        return original_loss\n",
        "\n",
        "elif PBGAN == 1: # Original GANs\n",
        "  def generator_loss(images, generated_images, fake_output, epoch):\n",
        "\n",
        "    if GAN_model == 0: # DCGAN\n",
        "      original_loss = tf.cast(cross_entropy(tf.ones_like(fake_output), fake_output), dtype=tf.float64) # cross entropy with fake\n",
        "\n",
        "    elif GAN_model == 1: # WGAN\n",
        "      original_loss = tf.cast(-tf.reduce_mean(fake_output), dtype=tf.float64) # Loss for WGAN\n",
        "\n",
        "    elif GAN_model == 2: # LSGAN\n",
        "      original_loss = tf.cast(tf.reduce_mean(tf.nn.l2_loss(fake_output - tf.ones_like(fake_output))) / 2, dtype=tf.float64) # L2 norm with fake\n",
        "\n",
        "    else:    \n",
        "      print('Set the number between 0 and 2 for GAN model')\n",
        "\n",
        "    return original_loss\n",
        "\n",
        "else: \n",
        "  print('Set the number between 0 and 1 for PBGAN')"
      ],
      "execution_count": 9,
      "outputs": []
    },
    {
      "cell_type": "markdown",
      "metadata": {
        "id": "rRXvh4bCqJNH"
      },
      "source": [
        "**The Discriminator Loss**"
      ]
    },
    {
      "cell_type": "code",
      "metadata": {
        "id": "d_Pm_AAbqM95"
      },
      "source": [
        "if GAN_model == 0: # DCGAN\n",
        "  def discriminator_loss(real_output, fake_output):    \n",
        "      real_loss = cross_entropy(tf.ones_like(real_output), real_output) # Cross entropy with real\n",
        "      fake_loss = cross_entropy(tf.zeros_like(fake_output), fake_output) # Cross entropy with fake\n",
        "\n",
        "      total_loss = real_loss + fake_loss\n",
        "\n",
        "      return total_loss\n",
        "\n",
        "elif GAN_model == 1: # WGAN\n",
        "  def discriminator_loss(real_data, fake_data): \n",
        "    # Calculate the gradient penalty term \n",
        "    LAMBDA = 10\n",
        "    alpha = tf.cast(tf.random.uniform([BATCH_SIZE, 150, 1, 1], 0.,1.), dtype=tf.float64)\n",
        "    real_data = tf.cast(real_data, dtype=tf.float64)\n",
        "    fake_data = tf.cast(fake_data, dtype=tf.float64)    \n",
        "    interpolates = alpha * real_data + (1-alpha) * fake_data\n",
        "    \n",
        "    with tf.GradientTape() as gp_tape:\n",
        "      gp_tape.watch(interpolates)\n",
        "      pred = discriminator(interpolates)\n",
        "\n",
        "    gradients = gp_tape.gradient(pred, [interpolates])[0]\n",
        "    \n",
        "    slopes = tf.sqrt(tf.reduce_sum(tf.square(gradients), axis=[1,2,3]))\n",
        "\n",
        "    gradient_penalty = tf.reduce_mean((slopes-1)**2) # Gradient penalty term\n",
        "\n",
        "    real_output = discriminator(real_data, training=True)\n",
        "    fake_output = discriminator(fake_data, training=True)\n",
        "    \n",
        "    wasserstein_dist = tf.cast(tf.reduce_mean(fake_output) - tf.reduce_mean(real_output), dtype=tf.float64) # Loss for WGAN \n",
        "\n",
        "    return wasserstein_dist + LAMBDA*gradient_penalty # Loss with gradient penalty term\n",
        "\n",
        "elif GAN_model == 2: # LSGAN\n",
        "  def discriminator_loss(real_output, fake_output):    \n",
        "       \n",
        "    loss_real = tf.reduce_mean(tf.nn.l2_loss(real_output - tf.ones_like(real_output))) # L2 norm with real\n",
        "    loss_fake = tf.reduce_mean(tf.nn.l2_loss(fake_output - tf.zeros_like(fake_output))) # L2 norm with fake\n",
        "\n",
        "    loss = (loss_real + loss_fake) / 2\n",
        "\n",
        "    return loss\n",
        "\n",
        "else:    \n",
        "    print('Set the number between 0 and 2 for GAN model')\n"
      ],
      "execution_count": 10,
      "outputs": []
    },
    {
      "cell_type": "markdown",
      "metadata": {
        "id": "4o6Tv2Aj0yV1"
      },
      "source": [
        "**Optimizers**"
      ]
    },
    {
      "cell_type": "code",
      "metadata": {
        "id": "CQAblR-qAkxR"
      },
      "source": [
        "if GAN_model == 0: # DCGAN\n",
        "  generator_optimizer = tf.keras.optimizers.Adam(1e-3)\n",
        "  discriminator_optimizer = tf.keras.optimizers.Adam(1e-3)\n",
        "\n",
        "elif GAN_model == 1: # WGAN\n",
        "  generator_optimizer = tf.keras.optimizers.Adam(1e-4, beta_1 = 0, beta_2 = 0.9) \n",
        "  discriminator_optimizer = tf.keras.optimizers.Adam(1e-4, beta_1 = 0, beta_2 = 0.9)\n",
        "\n",
        "elif GAN_model == 2: # LSGAN\n",
        "  generator_optimizer = tf.keras.optimizers.RMSprop(1e-3)\n",
        "  discriminator_optimizer = tf.keras.optimizers.RMSprop(1e-3)\n",
        "else:    \n",
        "  print('Set the number between 0 and 2 for GAN model')\n"
      ],
      "execution_count": 11,
      "outputs": []
    },
    {
      "cell_type": "markdown",
      "metadata": {
        "id": "9Zy_AdSD1R1h"
      },
      "source": [
        "**Training Set Up**"
      ]
    },
    {
      "cell_type": "code",
      "metadata": {
        "id": "YmZoRLIgAkz8"
      },
      "source": [
        "EPOCHS = 100\n",
        "noise_dim = 200 # Size of input for generator\n",
        "num_examples_to_generate = 10 # Number of generated synthetic data in each mini-batch"
      ],
      "execution_count": 12,
      "outputs": []
    },
    {
      "cell_type": "code",
      "metadata": {
        "id": "q5w4-sUmAk21"
      },
      "source": [
        "if (GAN_model == 0) or (GAN_model == 2): # DCGAN or LSGAN\n",
        "  def train_step(images,label,epoch):  \n",
        "      noise = tf.random.normal([BATCH_SIZE, noise_dim]) # Input for generator \n",
        "\n",
        "      with tf.GradientTape() as gen_tape, tf.GradientTape() as disc_tape:\n",
        "        generated_images = generator(noise, training=True) # Synthetic data\n",
        "        generated_images = tf.reshape(generated_images, [len(generated_images),150]) \n",
        "        mean_generate = tf.reshape(tf.math.reduce_mean(generated_images,axis=1),[len(generated_images),1])\n",
        "        std_generate = tf.reshape(tf.math.reduce_std(generated_images,axis=1),[len(generated_images),1])\n",
        "\n",
        "        generated_images = tf.divide(tf.subtract(generated_images, mean_generate), std_generate) # Standardization\n",
        "        generated_images = tf.reshape(generated_images, [len(generated_images),150,1,1])\n",
        "        real_output = discriminator(images, training=True) \n",
        "        fake_output = discriminator(generated_images, training=True) \n",
        "\n",
        "        gen_loss = generator_loss(images, generated_images, fake_output, epoch) # Loss from generator\n",
        "        disc_loss = discriminator_loss(real_output, fake_output) # Loss from discriminator\n",
        "\n",
        "      gradients_of_generator = gen_tape.gradient(gen_loss, generator.trainable_variables)\n",
        "      gradients_of_discriminator = disc_tape.gradient(disc_loss, discriminator.trainable_variables)\n",
        "\n",
        "      generator_optimizer.apply_gradients(zip(gradients_of_generator, generator.trainable_variables)) # Optimizer for generator \n",
        "      discriminator_optimizer.apply_gradients(zip(gradients_of_discriminator, discriminator.trainable_variables)) # Optimizer for discriminator\n",
        "\n",
        "\n",
        "elif GAN_model == 1: # WGAN\n",
        "  def train_step(images,label,epoch):  \n",
        "\n",
        "      for _ in range(5): # Train discriminator 5 times more than generator\n",
        "\n",
        "        noise = tf.random.normal([BATCH_SIZE, noise_dim]) # Input for generator\n",
        "    \n",
        "        with tf.GradientTape() as disc_tape:\n",
        "          generated_images = generator(noise, training=True) # Synthetic data          \n",
        "          generated_images = tf.reshape(generated_images, [len(generated_images),150])\n",
        "          mean_generate = tf.reshape(tf.math.reduce_mean(generated_images,axis=1),[len(generated_images),1])\n",
        "          std_generate = tf.reshape(tf.math.reduce_std(generated_images,axis=1),[len(generated_images),1])\n",
        "\n",
        "          generated_images = tf.divide(tf.subtract(generated_images, mean_generate), std_generate) # Standardization\n",
        "          generated_images = tf.reshape(generated_images, [len(generated_images),150,1,1])\n",
        "\n",
        "          disc_loss = discriminator_loss(images, generated_images) # Loss from discriminator\n",
        "          gradients_of_discriminator = disc_tape.gradient(disc_loss, discriminator.trainable_variables)\n",
        "          discriminator_optimizer.apply_gradients(zip(gradients_of_discriminator, discriminator.trainable_variables)) # Optimizer for discriminator     \n",
        "\n",
        "\n",
        "      noise = tf.random.normal([BATCH_SIZE, noise_dim]) # Input for generator\n",
        "\n",
        "      with tf.GradientTape() as gen_tape:        \n",
        "        generated_images = generator(noise, training=True) # Synthetic data            \n",
        "        generated_images = tf.reshape(generated_images, [len(generated_images),150])\n",
        "        mean_generate = tf.reshape(tf.math.reduce_mean(generated_images,axis=1),[len(generated_images),1])\n",
        "        std_generate = tf.reshape(tf.math.reduce_std(generated_images,axis=1),[len(generated_images),1])\n",
        "\n",
        "        generated_images = tf.divide(tf.subtract(generated_images, mean_generate), std_generate) # Standardization\n",
        "        generated_images = tf.reshape(generated_images, [len(generated_images),150,1,1])\n",
        "    \n",
        "        fake_output = discriminator(generated_images, training=True)\n",
        "        gen_loss = generator_loss(images, generated_images, fake_output, epoch) # Loss from generator\n",
        "        gradients_of_generator = gen_tape.gradient(gen_loss, generator.trainable_variables)\n",
        "        generator_optimizer.apply_gradients(zip(gradients_of_generator, generator.trainable_variables)) # Optimizer for generator\n",
        "\n",
        "\n"
      ],
      "execution_count": 13,
      "outputs": []
    },
    {
      "cell_type": "code",
      "metadata": {
        "id": "zDOzolrtAk52",
        "outputId": "508288aa-140c-49d9-c94a-09c055eac8e8",
        "colab": {
          "base_uri": "https://localhost:8080/"
        }
      },
      "source": [
        "def train(dataset, label, epochs): # Train during epoch\n",
        "\n",
        "  for epoch in range(epochs): \n",
        "    for image_batch, true_label in zip(train_dataset, labels):           \n",
        "      \n",
        "      _ = train_step(image_batch, true_label,epoch)\n",
        "\n",
        "\n",
        "print('Learning Started!')\n",
        "start_time = time.time()\n",
        "\n",
        "_ = train(train_dataset, labels, EPOCHS) # Train start!\n",
        "\n",
        "print('Learning Finished!')\n",
        "print('Building time for GAN: {:.2f} seconds'.format(time.time()-start_time))    "
      ],
      "execution_count": 14,
      "outputs": [
        {
          "output_type": "stream",
          "text": [
            "Learning Started!\n",
            "Learning Finished!\n",
            "Building time for GAN: 200.08 seconds\n"
          ],
          "name": "stdout"
        }
      ]
    },
    {
      "cell_type": "code",
      "metadata": {
        "id": "aOcoUzjZAk8m",
        "outputId": "84574530-d85b-4b14-af94-0ab6fb301a15",
        "colab": {
          "base_uri": "https://localhost:8080/",
          "height": 298
        }
      },
      "source": [
        "noise = tf.random.normal([120, noise_dim]) # Input for generator to build target's synthetic data\n",
        "\n",
        "syn_data = generator(noise, training=False) # Target's synthetic data\n",
        "syn_data = np.reshape(syn_data,[120,150])\n",
        "mean_syn = np.reshape(np.mean(syn_data,axis=1),[len(syn_data),1])\n",
        "std_syn = np.reshape(np.std(syn_data,axis=1),[len(syn_data),1])\n",
        "\n",
        "syn_data = np.divide(syn_data - mean_syn, std_syn) # Standardization\n",
        "\n",
        "fig2 = plt.figure()\n",
        "ax = plt.subplot(111)\n",
        "ax.plot(syn_data[3,:])\n",
        "plt.title('Example of synthetic data')"
      ],
      "execution_count": 20,
      "outputs": [
        {
          "output_type": "execute_result",
          "data": {
            "text/plain": [
              "Text(0.5, 1.0, 'Example of synthetic data')"
            ]
          },
          "metadata": {
            "tags": []
          },
          "execution_count": 20
        },
        {
          "output_type": "display_data",
          "data": {
            "image/png": "[encoded data removed]",
            "text/plain": [
              "<Figure size 432x288 with 1 Axes>"
            ]
          },
          "metadata": {
            "tags": [],
            "needs_background": "light"
          }
        }
      ]
    },
    {
      "cell_type": "code",
      "metadata": {
        "id": "ITdsHcaqPT68"
      },
      "source": [
        "fig.savefig('Original data sample.png')\n",
        "fig2.savefig('Synthetic data sample.png')"
      ],
      "execution_count": 21,
      "outputs": []
    }
  ]
}