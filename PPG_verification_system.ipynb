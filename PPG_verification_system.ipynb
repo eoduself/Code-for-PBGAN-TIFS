{
  "nbformat": 4,
  "nbformat_minor": 0,
  "metadata": {
    "colab": {
      "name": "PPG_verification_system.ipynb",
      "provenance": [],
      "collapsed_sections": []
    },
    "kernelspec": {
      "name": "python3",
      "display_name": "Python 3"
    },
    "accelerator": "GPU"
  },
  "cells": [
    {
      "cell_type": "code",
      "metadata": {
        "id": "SpiLoLO6do6w",
        "outputId": "f2965de2-4959-4e00-e7b9-41a9108f72cb",
        "colab": {
          "base_uri": "https://localhost:8080/"
        }
      },
      "source": [
        "%tensorflow_version 1.x\n",
        "import tensorflow as tf \n",
        "print(tf.__version__)\n"
      ],
      "execution_count": 1,
      "outputs": [
        {
          "output_type": "stream",
          "text": [
            "TensorFlow 1.x selected.\n",
            "1.15.2\n"
          ],
          "name": "stdout"
        }
      ]
    },
    {
      "cell_type": "markdown",
      "metadata": {
        "id": "2G0zb-pWeAS3"
      },
      "source": [
        "**Initialize**"
      ]
    },
    {
      "cell_type": "code",
      "metadata": {
        "id": "LBeEwXXUdo9r"
      },
      "source": [
        "import tensorflow as tf\n",
        "import numpy as np\n",
        "import matplotlib.pyplot as plt\n",
        "import scipy.io\n",
        "from scipy import stats\n",
        "from sklearn.preprocessing import OneHotEncoder\n",
        "from sklearn.utils import resample\n",
        "from sklearn.utils import class_weight\n",
        "from sklearn.model_selection import KFold\n",
        "import time\n",
        "import os\n",
        "\n",
        "read_file=scipy.io.loadmat('Subset_Biosec3.mat') # Load data\n"
      ],
      "execution_count": 2,
      "outputs": []
    },
    {
      "cell_type": "markdown",
      "metadata": {
        "id": "jb8nkiXWpBdb"
      },
      "source": [
        "**Set Target ID, Model type**"
      ]
    },
    {
      "cell_type": "code",
      "metadata": {
        "id": "4EBc9hS3fg0l",
        "outputId": "bcf6d2fe-dfd9-44c7-d83f-c7b1b40d30bb",
        "colab": {
          "base_uri": "https://localhost:8080/"
        }
      },
      "source": [
        "ID = 1 # Target ID\n",
        "Model_type = 0 # Model type. 0: WS model / 1: ND model\n",
        "\n",
        "subject = np.arange(1,21).tolist()\n",
        "print('ID',ID)"
      ],
      "execution_count": 3,
      "outputs": [
        {
          "output_type": "stream",
          "text": [
            "ID 1\n"
          ],
          "name": "stdout"
        }
      ]
    },
    {
      "cell_type": "code",
      "metadata": {
        "id": "z4AKAmbkdpA5"
      },
      "source": [
        "X_train = np.zeros((2520,150,4)) \n",
        "Y_train = np.zeros((2520,1)) \n",
        "X_train[0:2400,:,:] = np.array(read_file['train_data']) # Assign original train data\n",
        "X_train[2400:,:,:] = np.array(read_file['PBGAN_DC_syn'])[subject.index(ID)*120:(subject.index(ID)+1)*120,:,:] # Assign synthetic data (from PBGAN-DC) for only target\n",
        "Y_train[0:2400,:] = np.array(read_file['train_label']) # Assign original train label\n",
        "Y_train[2400:] = ID*np.ones((120,1)) # Assign synthetic data's label\n",
        "\n",
        "X_test = np.array(read_file['test_data']) # Assign original test data\n",
        "Y_test = np.array(read_file['test_label']) # Assign original test label\n",
        "\n",
        "# Number of class\n",
        "n_classes= 20\n",
        "# Number of features\n",
        "n_features=X_train.shape[1]\n"
      ],
      "execution_count": 4,
      "outputs": []
    },
    {
      "cell_type": "code",
      "metadata": {
        "id": "oL8hrgRldpDu",
        "outputId": "01289ec7-517b-4197-b3cc-294e10ed625a",
        "colab": {
          "base_uri": "https://localhost:8080/"
        }
      },
      "source": [
        "Y_train[np.where(Y_train!=ID)] = 0 # Give '1' to Target ID while others are '0'\n",
        "Y_test[np.where(Y_test!=ID)] = 0 # Give '1' to Target ID while others are '0'\n",
        "\n",
        "print(np.unique(Y_train, return_counts=True)) # Check the distribution of train label\n",
        "print(np.unique(Y_test, return_counts=True)) # Check the distribution of test label"
      ],
      "execution_count": 5,
      "outputs": [
        {
          "output_type": "stream",
          "text": [
            "(array([0., 1.]), array([2280,  240]))\n",
            "(array([0, 1], dtype=uint8), array([456,  24]))\n"
          ],
          "name": "stdout"
        }
      ]
    },
    {
      "cell_type": "markdown",
      "metadata": {
        "id": "wdf_91zjgMwu"
      },
      "source": [
        "**Onehot Encoding and Data Shuffle**"
      ]
    },
    {
      "cell_type": "code",
      "metadata": {
        "id": "lRufy35EdpG5"
      },
      "source": [
        "enc = OneHotEncoder()\n",
        "\n",
        "randIndx = np.arange(X_train.shape[0])\n",
        "np.random.shuffle(randIndx)\n",
        "\n",
        "randIndx2 = np.arange(X_test.shape[0])\n",
        "np.random.shuffle(randIndx2)\n",
        "\n",
        "X_train = X_train[randIndx,:,:] # Random shuffle the train data\n",
        "X_test = X_test[randIndx2,:,:] # Random shuffle the test data\n",
        " \n",
        "Y_train =enc.fit_transform(Y_train[randIndx].reshape(-1,1)).toarray() # Random shuffle with one-hot encoding (train label)\n",
        "Y_test =enc.fit_transform(Y_test[randIndx2].reshape(-1,1)).toarray() # Random shuffle with one-hot encoding (test label)\n",
        "\n",
        "train_data, train_target = X_train, Y_train # Final assign train data/label\n",
        "test_data, test_target = X_test, Y_test # Final assign test data/label"
      ],
      "execution_count": 6,
      "outputs": []
    },
    {
      "cell_type": "markdown",
      "metadata": {
        "id": "3NYlKES4ldwK"
      },
      "source": [
        "**WS Model Structure**\n"
      ]
    },
    {
      "cell_type": "code",
      "metadata": {
        "id": "iZsGJ4DddpTD"
      },
      "source": [
        "class WS_Model:\n",
        "\n",
        "    def __init__(self, sess, name):\n",
        "\n",
        "        self.sess = sess\n",
        "        self.name = name\n",
        "        self._build_net()\n",
        "\n",
        "    def _build_net(self):\n",
        "\n",
        "        with tf.variable_scope(self.name):\n",
        "\n",
        "            self.training = tf.placeholder(tf.bool) # Turn on/off dropout\n",
        "            self.X = tf.placeholder(tf.float32, [None, 150, 1]) # Input data\n",
        "            self.Y = tf.placeholder(tf.float32, [None, 2]) # Input label\n",
        "            self.learning_rate = tf.placeholder(tf.float32) # Learning rate\n",
        "            self.class_weights = tf.placeholder(tf.float32) # Weight for weighted cross entropy\n",
        "\n",
        "            # Convolutional Layer #1\n",
        "            W1 = tf.Variable(tf.random_normal([60, 1, 50], stddev=0.01)) # Initialize parameters from normal distribution \n",
        "            conv1 = tf.nn.conv1d(self.X, W1, stride=1, padding='VALID') # Convolution\n",
        "            relu1 = tf.nn.relu(conv1) # ReLu\n",
        "            dropout1 = tf.layers.dropout(inputs=relu1, rate=0.5, training=self.training) # Dropout (50%)\n",
        "            \n",
        "            # Convolutional Layer #2\n",
        "            W2 = tf.Variable(tf.random_normal([70, 50, 70], stddev=0.01)) # Initialize parameters from normal distribution \n",
        "            conv2 = tf.nn.conv1d(dropout1, W2, stride=1, padding='VALID') # Convolution\n",
        "            relu2 = tf.nn.relu(conv2) # ReLu                                   \n",
        "            dropout2 = tf.layers.dropout(inputs=relu2, rate=0.5, training=self.training) # Dropout (50%)            \n",
        "        \n",
        "            # FC Layer\n",
        "            FC = tf.reshape(dropout2, [-1, 22*70])         \n",
        "            FC_weight = tf.get_variable(\"FC_weight\", shape=[22*70, 2], initializer=tf.contrib.layers.xavier_initializer())\n",
        "            logits = tf.matmul(FC, FC_weight)             \n",
        "        \n",
        "        self.cost = tf.reduce_mean(tf.nn.weighted_cross_entropy_with_logits(self.Y, logits, self.class_weights)) # Weighted cross entropy with logits and labels\n",
        "        reg_losses = tf.nn.l2_loss(W1) + tf.nn.l2_loss(W2) + tf.nn.l2_loss(FC_weight) # L2 regularization\n",
        "        self.cost = self.cost + 0.05 * reg_losses # Final cost for optimization\n",
        "        self.optimizer = tf.train.AdamOptimizer(learning_rate=self.learning_rate).minimize(self.cost) # ADAM optimization\n",
        "\t\t\n",
        "        self.sigmoid_out = tf.nn.sigmoid(logits) \n",
        "        self.predict = tf.cast(self.sigmoid_out[:,1], tf.float32) # Output from model\n",
        "                    \n",
        "\n",
        "    def get_predict(self, x_test, training = False):          \n",
        "\n",
        "        return self.sess.run(self.predict, feed_dict={self.X: x_test, self.training: training})\n",
        "    \n",
        "\n",
        "    def get_cost(self, x_valid, y_valid, weights, training = False):\n",
        "        \n",
        "        return self.sess.run(self.cost, feed_dict={self.X: x_valid, \n",
        "                                                   self.Y: y_valid, self.class_weights: weights, self.training: training})\n",
        "\n",
        "    def train(self, x_data, y_data, weights, learning, training = True):\n",
        "\n",
        "        return self.sess.run(self.optimizer, feed_dict={\n",
        "             self.X: x_data, self.Y: y_data, self.class_weights: weights, self.learning_rate: learning, self.training: training})        \n"
      ],
      "execution_count": 7,
      "outputs": []
    },
    {
      "cell_type": "markdown",
      "metadata": {
        "id": "aLemHr5BrdW7"
      },
      "source": [
        "**ND Model Structure**\n"
      ]
    },
    {
      "cell_type": "code",
      "metadata": {
        "id": "EE-ERhHnrcIe"
      },
      "source": [
        "class ND_Model:\n",
        "\n",
        "    def __init__(self, sess, name):\n",
        "\n",
        "        self.sess = sess\n",
        "        self.name = name\n",
        "        self._build_net()\n",
        "\n",
        "    def _build_net(self):\n",
        "\n",
        "        with tf.variable_scope(self.name):\n",
        "\n",
        "            self.training = tf.placeholder(tf.bool) # Turn on/off dropout\n",
        "            self.X = tf.placeholder(tf.float32, [None, 150, 1]) # Input data\n",
        "            self.Y = tf.placeholder(tf.float32, [None, 2]) # Input label\n",
        "            self.learning_rate = tf.placeholder(tf.float32) # Learning rate\n",
        "            self.class_weights = tf.placeholder(tf.float32) # Weight for weighted cross entropy\n",
        "\n",
        "            W = tf.Variable(tf.random_normal([7, 1, 1], stddev=0.01)) # Initialize parameters from normal distribution \n",
        "            conv = tf.nn.conv1d(self.X, W, stride=1, padding='SAME') # Convolution\n",
        "\t\t\t\n",
        "            # Residual Block #1 \n",
        "            relu1_1 = tf.nn.relu(conv) # ReLu\n",
        "            dropout1_1 = tf.layers.dropout(inputs=relu1_1, rate=0.5, training=self.training) # Dropout (50%)\n",
        "      \n",
        "            W1_1 = tf.Variable(tf.random_normal([7, 1, 16], stddev=0.01)) # Initialize parameters from normal distribution               \n",
        "            conv1_1 = tf.nn.conv1d(dropout1_1, W1_1, stride=2, padding='SAME') # Convolution\n",
        "            relu1_2 = tf.nn.relu(conv1_1) # ReLu\n",
        "            dropout1_2 = tf.layers.dropout(inputs=relu1_2, rate=0.5, training=self.training) # Dropout (50%)\n",
        "\n",
        "            W1_2 = tf.Variable(tf.random_normal([7, 16, 16], stddev=0.01)) # Initialize parameters from normal distribution               \n",
        "            conv1_2 = tf.nn.conv1d(dropout1_2, W1_2, stride=1, padding='SAME') # Convolution\n",
        "            \n",
        "            dim_W_1 = tf.Variable(tf.random_normal([1, 1, 16], stddev=0.01)) # Initialize parameters from normal distribution    \n",
        "            dim_1 = tf.nn.conv1d(conv, dim_W_1, stride=1, padding='SAME') # Convolution\n",
        "            avg_pool_1 = tf.nn.avg_pool1d(dim_1,ksize=2,strides=2,padding='SAME')\n",
        "\n",
        "            res_1 = avg_pool_1 + conv1_2 \n",
        "\n",
        "            # Residual Block #2 \n",
        "            relu2_1 = tf.nn.relu(res_1) # ReLu\n",
        "            dropout2_1 = tf.layers.dropout(inputs=relu2_1, rate=0.5, training=self.training) # Dropout (50%)\n",
        "\n",
        "            W2_1 = tf.Variable(tf.random_normal([7, 16, 32], stddev=0.01)) # Initialize parameters from normal distribution \n",
        "            conv2_1 = tf.nn.conv1d(dropout2_1, W2_1, stride=2, padding='SAME') # Convolution\n",
        "            relu2_2 = tf.nn.relu(conv2_1) # ReLu\n",
        "            dropout2_2 = tf.layers.dropout(inputs=relu2_2, rate=0.5, training=self.training) # Dropout (50%)\n",
        "\n",
        "            W2_2 = tf.Variable(tf.random_normal([7, 32, 32], stddev=0.01)) # Initialize parameters from normal distribution               \n",
        "            conv2_2 = tf.nn.conv1d(dropout2_2, W2_2, stride=1, padding='SAME') # Convolution\n",
        "\n",
        "            dim_W_2 = tf.Variable(tf.random_normal([1, 16, 32], stddev=0.01)) # Initialize parameters from normal distribution    \n",
        "            dim_2 = tf.nn.conv1d(res_1, dim_W_2, stride=1, padding='SAME') # Convolution\n",
        "            avg_pool_2 = tf.nn.avg_pool1d(dim_2,ksize=2,strides=2,padding='SAME')\n",
        "\n",
        "            res_2 = avg_pool_2 + conv2_2 \n",
        "\n",
        "             \n",
        "            # Residual Block #3 \n",
        "            relu3_1 = tf.nn.relu(res_2) # ReLu\n",
        "            dropout3_1 = tf.layers.dropout(inputs=relu3_1, rate=0.5, training=self.training) # Dropout (50%)\n",
        "\n",
        "            W3_1 = tf.Variable(tf.random_normal([7, 32, 64], stddev=0.01)) # Initialize parameters from normal distribution \n",
        "            conv3_1 = tf.nn.conv1d(dropout3_1, W3_1, stride=2, padding='SAME') # Convolution\n",
        "            relu3_2 = tf.nn.relu(conv3_1) # ReLu\n",
        "            dropout3_2 = tf.layers.dropout(inputs=relu3_2, rate=0.5, training=self.training) # Dropout (50%)\n",
        "\n",
        "            W3_2 = tf.Variable(tf.random_normal([7, 64, 64], stddev=0.01)) # Initialize parameters from normal distribution               \n",
        "            conv3_2 = tf.nn.conv1d(dropout3_2, W3_2, stride=1, padding='SAME') # Convolution\n",
        "\n",
        "            dim_W_3 = tf.Variable(tf.random_normal([1, 32, 64], stddev=0.01)) # Initialize parameters from normal distribution    \n",
        "            dim_3 = tf.nn.conv1d(res_2, dim_W_3, stride=1, padding='SAME') # Convolution\n",
        "            avg_pool_3 = tf.nn.avg_pool1d(dim_3,ksize=2,strides=2,padding='SAME')\n",
        "\n",
        "            res_3 = avg_pool_3 + conv3_2 \n",
        "\n",
        "\n",
        "            # Residual Block #4 \n",
        "            relu4_1 = tf.nn.relu(res_3) # ReLu\n",
        "            dropout4_1 = tf.layers.dropout(inputs=relu4_1, rate=0.5, training=self.training) # Dropout (50%)\n",
        "\n",
        "            W4_1 = tf.Variable(tf.random_normal([7, 64, 128], stddev=0.01)) # Initialize parameters from normal distribution \n",
        "            conv4_1 = tf.nn.conv1d(dropout4_1, W4_1, stride=2, padding='SAME') # Convolution\n",
        "            relu4_2 = tf.nn.relu(conv4_1) # ReLu\n",
        "            dropout4_2 = tf.layers.dropout(inputs=relu4_2, rate=0.5, training=self.training) # Dropout (50%)\n",
        "\n",
        "            W4_2 = tf.Variable(tf.random_normal([7, 128, 128], stddev=0.01)) # Initialize parameters from normal distribution               \n",
        "            conv4_2 = tf.nn.conv1d(dropout4_2, W4_2, stride=1, padding='SAME') # Convolution\n",
        "\n",
        "            dim_W_4 = tf.Variable(tf.random_normal([1, 64, 128], stddev=0.01)) # Initialize parameters from normal distribution    \n",
        "            dim_4 = tf.nn.conv1d(res_3, dim_W_4, stride=1, padding='SAME') # Convolution\n",
        "            avg_pool_4 = tf.nn.avg_pool1d(dim_4,ksize=2,strides=2,padding='SAME')\n",
        "\n",
        "            res_4 = avg_pool_4 + conv4_2 \n",
        "\n",
        "            # Residual Block #5 \n",
        "            relu5_1 = tf.nn.relu(res_4) # ReLu\n",
        "            dropout5_1 = tf.layers.dropout(inputs=relu5_1, rate=0.5, training=self.training) # Dropout (50%)\n",
        "\n",
        "            W5_1 = tf.Variable(tf.random_normal([7, 128, 256], stddev=0.01)) # Initialize parameters from normal distribution \n",
        "            conv5_1 = tf.nn.conv1d(dropout5_1, W5_1, stride=2, padding='SAME') # Convolution\n",
        "            relu5_2 = tf.nn.relu(conv5_1) # ReLu\n",
        "            dropout5_2 = tf.layers.dropout(inputs=relu5_2, rate=0.5, training=self.training) # Dropout (50%)\n",
        "\n",
        "            W5_2 = tf.Variable(tf.random_normal([7, 256, 256], stddev=0.01)) # Initialize parameters from normal distribution               \n",
        "            conv5_2 = tf.nn.conv1d(dropout5_2, W5_2, stride=1, padding='SAME') # Convolution\n",
        "\n",
        "            dim_W_5 = tf.Variable(tf.random_normal([1, 128, 256], stddev=0.01)) # Initialize parameters from normal distribution    \n",
        "            dim_5 = tf.nn.conv1d(res_4, dim_W_5, stride=1, padding='SAME') # Convolution\n",
        "            avg_pool_5 = tf.nn.avg_pool1d(dim_5,ksize=2,strides=2,padding='SAME')\n",
        "\n",
        "            res_5 = avg_pool_5 + conv5_2         \n",
        "\n",
        "            # FC Layer\n",
        "            FC_relu = tf.nn.relu(res_5) # ReLu\n",
        "\n",
        "            FC = tf.reshape(FC_relu, [-1, 5*256])         \n",
        "            FC_weight = tf.get_variable(\"FC_weight\", shape=[5*256, 2], initializer=tf.contrib.layers.xavier_initializer())\n",
        "            logits = tf.matmul(FC, FC_weight)             \n",
        "        \n",
        "        self.cost = tf.reduce_mean(tf.nn.weighted_cross_entropy_with_logits(self.Y, logits, self.class_weights)) # Weighted cross entropy with logits and labels\n",
        "        # L2 regularization\n",
        "        reg_losses = tf.nn.l2_loss(W) + tf.nn.l2_loss(W1_1) + tf.nn.l2_loss(W1_2) + tf.nn.l2_loss(W2_1) + \\\n",
        "         tf.nn.l2_loss(W2_2) + tf.nn.l2_loss(W3_1) + tf.nn.l2_loss(W3_2) + tf.nn.l2_loss(W4_1) + tf.nn.l2_loss(W4_2) + tf.nn.l2_loss(W5_1) + tf.nn.l2_loss(W5_2) + tf.nn.l2_loss(FC_weight)\n",
        "\n",
        "        self.cost = self.cost + 0.05 * reg_losses # Final cost for optimization\n",
        "        self.optimizer = tf.train.AdamOptimizer(learning_rate=self.learning_rate).minimize(self.cost) # ADAM optimization\n",
        "\t\t\n",
        "        self.sigmoid_out = tf.nn.sigmoid(logits) \n",
        "        self.predict = tf.cast(self.sigmoid_out[:,1], tf.float32) # Output from model\n",
        "\n",
        "    def get_predict(self, x_test, training = False):          \n",
        "\n",
        "        return self.sess.run(self.predict, feed_dict={self.X: x_test, self.training: training})\n",
        "    \n",
        "\n",
        "    def get_cost(self, x_valid, y_valid, weights, training = False):\n",
        "        \n",
        "        return self.sess.run(self.cost, feed_dict={self.X: x_valid, \n",
        "                                                   self.Y: y_valid, self.class_weights: weights, self.training: training})\n",
        "\n",
        "    def train(self, x_data, y_data, weights, learning, training = True):\n",
        "\n",
        "        return self.sess.run(self.optimizer, feed_dict={\n",
        "             self.X: x_data, self.Y: y_data, self.class_weights: weights, self.learning_rate: learning, self.training: training})        \n"
      ],
      "execution_count": 8,
      "outputs": []
    },
    {
      "cell_type": "markdown",
      "metadata": {
        "id": "mx1w0DQjpNEg"
      },
      "source": [
        "**Train the Model**"
      ]
    },
    {
      "cell_type": "code",
      "metadata": {
        "id": "23mGQEKbdpWH",
        "outputId": "0f1f4720-f8fd-4725-94b0-8b9e78e07630",
        "colab": {
          "base_uri": "https://localhost:8080/"
        }
      },
      "source": [
        "# Hyperparameters\n",
        "learning_rate = 0.0001\n",
        "training_epochs = 60 # Number of epoch\n",
        "batch_size = 252 # Mini-batch size\n",
        "num_cv = 10 # Number of fold in cross validation \n",
        "bag_size = 2268  # Size of train set in cross validation\n",
        "\n",
        "valid_cost = np.zeros((training_epochs,4))\n",
        "\n",
        "\n",
        "sess = tf.Session()\n",
        "models = []\n",
        "num_models = 4 # Generate 4 CNNs for each input (i.e. DTW,TP,FP,Cubic)\n",
        "\n",
        "if Model_type == 0:\n",
        "\n",
        "  for m in range(num_models):\n",
        "      models.append(WS_Model(sess, \"model\" + str(m)))    \n",
        "else:\n",
        "  for m in range(num_models):\n",
        "      models.append(ND_Model(sess, \"model\" + str(m)))    \n",
        "\n",
        "sess.run(tf.global_variables_initializer())\n",
        "\n",
        "start_time = time.time() # For checking training time\n",
        "\n",
        "print('Learning Started!')\n",
        "\n",
        "# Train start\n",
        "for epoch in range(training_epochs):\n",
        "         \n",
        "    total_batch = int(bag_size / batch_size)\n",
        "    valid_cost_cv = [0,0,0,0]\n",
        "    \n",
        "    cv = KFold(n_splits=num_cv, shuffle=True)\n",
        "    for train_index, test_index in cv.split(train_data): # Divide the train and test set for cross validation\n",
        "        cv_train_data, cv_validate_data = train_data[train_index], train_data[test_index]\n",
        "        cv_train_target, cv_validate_target = train_target[train_index], train_target[test_index]    \n",
        "                    \n",
        "        for m_idx, m in enumerate(models):\n",
        "            \n",
        "            if m_idx==0: # Train data/label for DTW's CNN model\n",
        "              training, validating = cv_train_data[:,:,0], cv_validate_data[:,:,0]\n",
        "              training_target, validating_target = cv_train_target, cv_validate_target\n",
        "            if m_idx==1: # Train data/label for TP's CNN model\n",
        "              training, validating = cv_train_data[:,:,1], cv_validate_data[:,:,1]\n",
        "              training_target, validating_target = cv_train_target, cv_validate_target\n",
        "            if m_idx==2: # Train data/label for FP's CNN model\n",
        "              training, validating = cv_train_data[:,:,2], cv_validate_data[:,:,2]\n",
        "              training_target, validating_target = cv_train_target, cv_validate_target            \n",
        "            if m_idx==3: # Train data/label for Cubic's CNN model\n",
        "              training, validating = cv_train_data[:,:,3], cv_validate_data[:,:,3]\n",
        "              training_target, validating_target = cv_train_target, cv_validate_target            \n",
        "\n",
        "            training = np.reshape(training,[len(training),n_features,1])\n",
        "            validating = np.reshape(validating,[len(validating),n_features,1])\n",
        "\n",
        "            for i in range(total_batch):\n",
        "\n",
        "                batch_xs, batch_ys = training[batch_size*i:batch_size*(i+1),:], training_target[batch_size*i:batch_size*(i+1)]                \n",
        "                pos_weight = (n_classes - 1) # Weight for weighted cross entropy\n",
        "\n",
        "                _ = m.train(batch_xs, batch_ys, pos_weight, learning_rate) # Train the model with mini-batch data\n",
        "\n",
        "                pos_weight = 1 # No specific weight for weighted cross entropy when calculating validation and test set\n",
        "                        \n",
        "            valid_cost_cv[m_idx] += m.get_cost(validating, validating_target, pos_weight) # Cost for validation set\n",
        "            \n",
        "    valid_cost[epoch] =np.divide(valid_cost_cv ,num_cv) # Average cost for validation set\n",
        "    \n",
        "    if ((epoch+1)%5) == 0: # Print the average cost\n",
        "        print('Epoch:', '%04d' % (epoch + 1), 'Validating_cost_DTW =', round(valid_cost[epoch,0],3),' Validating_cost_TP =', round(valid_cost[epoch,1],3),' Validating_cost_FP =', round(valid_cost[epoch,2],3),' Validating_cost_Cubic =', round(valid_cost[epoch,3],3))         \n",
        "        \n",
        "print('Learning Finished!')\n",
        "\n",
        "end_time = time.time()\n",
        "elapsed = end_time - start_time # For checking training time\n",
        "\n",
        "print('Training time: {:.2f} seconds'.format(elapsed)) # Training time\n",
        "\n"
      ],
      "execution_count": 9,
      "outputs": [
        {
          "output_type": "stream",
          "text": [
            "WARNING:tensorflow:From <ipython-input-7-fa429ad4a794>:23: dropout (from tensorflow.python.layers.core) is deprecated and will be removed in a future version.\n",
            "Instructions for updating:\n",
            "Use keras.layers.dropout instead.\n",
            "WARNING:tensorflow:From /tensorflow-1.15.2/python3.6/tensorflow_core/python/layers/core.py:271: Layer.apply (from tensorflow.python.keras.engine.base_layer) is deprecated and will be removed in a future version.\n",
            "Instructions for updating:\n",
            "Please use `layer.__call__` method instead.\n",
            "WARNING:tensorflow:\n",
            "The TensorFlow contrib module will not be included in TensorFlow 2.0.\n",
            "For more information, please see:\n",
            "  * https://github.com/tensorflow/community/blob/master/rfcs/20180907-contrib-sunset.md\n",
            "  * https://github.com/tensorflow/addons\n",
            "  * https://github.com/tensorflow/io (for I/O related ops)\n",
            "If you depend on functionality not listed there, please file an issue.\n",
            "\n",
            "Learning Started!\n",
            "Epoch: 0005 Validating_cost_DTW = 0.698  Validating_cost_TP = 0.545  Validating_cost_FP = 0.584  Validating_cost_Cubic = 0.535\n",
            "Epoch: 0010 Validating_cost_DTW = 0.509  Validating_cost_TP = 0.386  Validating_cost_FP = 0.419  Validating_cost_Cubic = 0.401\n",
            "Epoch: 0015 Validating_cost_DTW = 0.436  Validating_cost_TP = 0.33  Validating_cost_FP = 0.356  Validating_cost_Cubic = 0.349\n",
            "Epoch: 0020 Validating_cost_DTW = 0.406  Validating_cost_TP = 0.299  Validating_cost_FP = 0.326  Validating_cost_Cubic = 0.323\n",
            "Epoch: 0025 Validating_cost_DTW = 0.386  Validating_cost_TP = 0.28  Validating_cost_FP = 0.308  Validating_cost_Cubic = 0.307\n",
            "Epoch: 0030 Validating_cost_DTW = 0.374  Validating_cost_TP = 0.265  Validating_cost_FP = 0.295  Validating_cost_Cubic = 0.293\n",
            "Epoch: 0035 Validating_cost_DTW = 0.367  Validating_cost_TP = 0.256  Validating_cost_FP = 0.288  Validating_cost_Cubic = 0.285\n",
            "Epoch: 0040 Validating_cost_DTW = 0.362  Validating_cost_TP = 0.253  Validating_cost_FP = 0.281  Validating_cost_Cubic = 0.281\n",
            "Epoch: 0045 Validating_cost_DTW = 0.356  Validating_cost_TP = 0.246  Validating_cost_FP = 0.276  Validating_cost_Cubic = 0.279\n",
            "Epoch: 0050 Validating_cost_DTW = 0.352  Validating_cost_TP = 0.246  Validating_cost_FP = 0.273  Validating_cost_Cubic = 0.272\n",
            "Epoch: 0055 Validating_cost_DTW = 0.351  Validating_cost_TP = 0.239  Validating_cost_FP = 0.269  Validating_cost_Cubic = 0.27\n",
            "Epoch: 0060 Validating_cost_DTW = 0.348  Validating_cost_TP = 0.242  Validating_cost_FP = 0.27  Validating_cost_Cubic = 0.267\n",
            "Learning Finished!\n",
            "Training time: 78.11 seconds\n"
          ],
          "name": "stdout"
        }
      ]
    },
    {
      "cell_type": "markdown",
      "metadata": {
        "id": "po5ELhf4tRsO"
      },
      "source": [
        "**Validation Cost Plot**"
      ]
    },
    {
      "cell_type": "code",
      "metadata": {
        "id": "S9R_GjEVtNKj",
        "outputId": "d8849cc2-e29b-4df2-f7e1-29a33ef50787",
        "colab": {
          "base_uri": "https://localhost:8080/",
          "height": 295
        }
      },
      "source": [
        "fig = plt.figure()\n",
        "ax = plt.subplot(111)\n",
        "\n",
        "x_axis = np.linspace(1.0, training_epochs, num=training_epochs)\n",
        "ax.plot(x_axis, valid_cost[:,0],'r', label='DTW')\n",
        "ax.plot(x_axis, valid_cost[:,1],'g', label='TP')\n",
        "ax.plot(x_axis, valid_cost[:,2],'b', label='FP')\n",
        "ax.plot(x_axis, valid_cost[:,3],'m', label='Cubic')\n",
        "\n",
        "ax.legend()\n",
        "plt.title('Validation Cost')\n",
        "plt.xlabel('Epoch')\n",
        "plt.ylabel('Cost')\n",
        "\n",
        "plt.show()"
      ],
      "execution_count": 10,
      "outputs": [
        {
          "output_type": "display_data",
          "data": {
            "image/png": "[encoded data removed]",
            "text/plain": [
              "<Figure size 432x288 with 1 Axes>"
            ]
          },
          "metadata": {
            "tags": [],
            "needs_background": "light"
          }
        }
      ]
    },
    {
      "cell_type": "markdown",
      "metadata": {
        "id": "032-DaVXt0Ae"
      },
      "source": [
        "**Sum Fusion**"
      ]
    },
    {
      "cell_type": "code",
      "metadata": {
        "id": "F9g9mZJCtNPv"
      },
      "source": [
        "testing_0 = np.reshape(test_data[:,:,0], [len(test_data[:,:,0]),n_features,1])\n",
        "testing_1 = np.reshape(test_data[:,:,1], [len(test_data[:,:,1]),n_features,1])\n",
        "testing_2 = np.reshape(test_data[:,:,2], [len(test_data[:,:,2]),n_features,1])\n",
        "testing_3 = np.reshape(test_data[:,:,3], [len(test_data[:,:,3]),n_features,1])\n",
        "\n",
        "start_time_test = time.time() # For checking fusion time\n",
        "\n",
        "test_logit_0 =  models[0].get_predict(testing_0) # Score from DTW's CNN model\n",
        "test_logit_1 =  models[1].get_predict(testing_1) # Score from TP's CNN model\n",
        "test_logit_2 =  models[2].get_predict(testing_2) # Score from FP's CNN model\n",
        "test_logit_3 =  models[3].get_predict(testing_3) # Score from Cubic's CNN model\n"
      ],
      "execution_count": 11,
      "outputs": []
    },
    {
      "cell_type": "code",
      "metadata": {
        "id": "s6paxhjWtNTp",
        "outputId": "c31f4a40-05aa-42bc-b7fb-1281ade6c1d8",
        "colab": {
          "base_uri": "https://localhost:8080/"
        }
      },
      "source": [
        "thres = np.arange(0, 1.001, 0.001) # Threshold for calculating performances\n",
        "\n",
        "thres_matrix_test = np.zeros((len(test_target),len(thres)))\n",
        "total_matrix_test = np.zeros((len(thres),4)) # Saving performances: Accuracy, FAR, FRR, Recall (order of column)\n",
        "\n",
        "test_logit = 0.25*test_logit_0 + 0.25*test_logit_1 + 0.25*test_logit_2 + 0.25*test_logit_3 # Sum fusion with each score\n",
        "\n",
        "\n",
        "for j in range(len(thres)):\n",
        "    for i in range(len(test_target)):\n",
        "        if test_logit[i] < thres[j]:\n",
        "            thres_matrix_test[i,j] = 0 # Below threshold -> Not target\n",
        "        else:\n",
        "            thres_matrix_test[i,j] = 1 # Above (and equal) threshold -> Target\n",
        "\n",
        "\n",
        "# Calculate performances\n",
        "\n",
        "for i in range(len(thres)):\n",
        "\n",
        "    equal_logit = np.equal(thres_matrix_test[:,i], test_target[:,1]) \n",
        "    unique2, True_pos_neg_test = np.unique(thres_matrix_test[np.where(equal_logit==True),i], return_counts=True)\n",
        "    unique3, False_pos_neg_test = np.unique(thres_matrix_test[np.where(equal_logit==False),i], return_counts=True) \n",
        "\n",
        "    if np.shape(True_pos_neg_test)==(1,):\n",
        "        if unique2[0] == 0:\n",
        "            True_pos_neg_test = [True_pos_neg_test[0], 0]\n",
        "        else:\n",
        "            True_pos_neg_test = [0, True_pos_neg_test[0]]\n",
        "\n",
        "    if np.shape(False_pos_neg_test)==(1,):\n",
        "        if unique3[0] == 0:\n",
        "            False_pos_neg_test = [False_pos_neg_test[0], 0]\n",
        "        else:\n",
        "            False_pos_neg_test = [0, False_pos_neg_test[0]]\n",
        "\n",
        "    if np.shape(True_pos_neg_test)==(0,):\n",
        "        True_pos_neg_test = [0, 0]\n",
        "\n",
        "    if np.shape(False_pos_neg_test)==(0,):\n",
        "        False_pos_neg_test = [0, 0]\n",
        "\n",
        "    Recall_test= True_pos_neg_test[1]/(True_pos_neg_test[1]+False_pos_neg_test[0])\n",
        "    Specific_test = True_pos_neg_test[0] /(True_pos_neg_test[0]+False_pos_neg_test[1])\n",
        "\n",
        "    ACC_test = (True_pos_neg_test[0]+True_pos_neg_test[1]) / (len(test_target))\n",
        "    FAR_test = 1 - Specific_test\n",
        "    FRR_test = 1 - Recall_test\n",
        "\n",
        "    total_matrix_test[i,:] = ACC_test, FAR_test, FRR_test, Recall_test\n",
        "\n",
        "fusion_time = time.time() - start_time_test # For checking fusion time\n",
        "elapsed = elapsed + fusion_time\n",
        "\n",
        "print('Final building time: {:.2f} seconds'.format(elapsed))"
      ],
      "execution_count": 12,
      "outputs": [
        {
          "output_type": "stream",
          "text": [
            "Final building time: 79.50 seconds\n"
          ],
          "name": "stdout"
        }
      ]
    },
    {
      "cell_type": "markdown",
      "metadata": {
        "id": "UJu4K4qeI0qs"
      },
      "source": [
        "**Result for Target ID**"
      ]
    },
    {
      "cell_type": "code",
      "metadata": {
        "id": "PRVTsER4tNOJ",
        "outputId": "b6f49fa8-4b34-467f-f360-76efff9a8faa",
        "colab": {
          "base_uri": "https://localhost:8080/",
          "height": 329
        }
      },
      "source": [
        "EER_line = thres[::-1]\n",
        "\n",
        "fig2 = plt.figure()\n",
        "ax2 = plt.subplot(111)\n",
        "ax2.plot(total_matrix_test[:,1], total_matrix_test[:,3],'r',label='ROC')\n",
        "ax2.plot(thres, EER_line, 'b',label='EER Line')\n",
        "ax2.legend()\n",
        "plt.title('ROC Curve')\n",
        "plt.xlabel('FAR')\n",
        "plt.ylabel('TPR')\n",
        "plt.show()\n",
        "\n",
        "EER_loc_test = np.argmin(abs(total_matrix_test[:,1] - total_matrix_test[:,2]))\n",
        "print('Accuracy: {:.2f}% '.format(100*total_matrix_test[EER_loc_test,0]))\n",
        "print('EER: {:.2f}% '.format(100*(total_matrix_test[EER_loc_test,1]+total_matrix_test[EER_loc_test,2])/2))\n",
        "\n"
      ],
      "execution_count": 13,
      "outputs": [
        {
          "output_type": "display_data",
          "data": {
            "image/png": "[encoded data removed]",
            "text/plain": [
              "<Figure size 432x288 with 1 Axes>"
            ]
          },
          "metadata": {
            "tags": [],
            "needs_background": "light"
          }
        },
        {
          "output_type": "stream",
          "text": [
            "Accuracy: 96.04% \n",
            "EER: 4.06% \n"
          ],
          "name": "stdout"
        }
      ]
    }
  ]
}